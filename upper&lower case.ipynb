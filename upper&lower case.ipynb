{
 "cells": [
  {
   "cell_type": "code",
   "execution_count": 1,
   "id": "66c3737b",
   "metadata": {},
   "outputs": [
    {
     "name": "stdout",
     "output_type": "stream",
     "text": [
      "No. of Upper case characters :  3\n",
      "No. of Lower case Characters :  13\n"
     ]
    }
   ],
   "source": [
    "string = 'The quick Brown Fox'\n",
    "def string(s):\n",
    "    d={\"UPPER_CASE\":0,}\n",
    "    c ={\"LOWER_CASE\":0}\n",
    "    for e in s:\n",
    "        if e.isupper():\n",
    "           d[\"UPPER_CASE\"]+=1\n",
    "        elif e.islower():\n",
    "           c[\"LOWER_CASE\"]+=1\n",
    "        else:\n",
    "           pass   \n",
    "    print (\"No. of Upper case characters : \", d[\"UPPER_CASE\"])\n",
    "    print (\"No. of Lower case Characters : \", c[\"LOWER_CASE\"])\n",
    "\n",
    "string('The quick Brown Fox')"
   ]
  },
  {
   "cell_type": "code",
   "execution_count": null,
   "id": "b29a2518",
   "metadata": {},
   "outputs": [],
   "source": []
  }
 ],
 "metadata": {
  "kernelspec": {
   "display_name": "Python 3 (ipykernel)",
   "language": "python",
   "name": "python3"
  },
  "language_info": {
   "codemirror_mode": {
    "name": "ipython",
    "version": 3
   },
   "file_extension": ".py",
   "mimetype": "text/x-python",
   "name": "python",
   "nbconvert_exporter": "python",
   "pygments_lexer": "ipython3",
   "version": "3.9.6"
  }
 },
 "nbformat": 4,
 "nbformat_minor": 5
}
